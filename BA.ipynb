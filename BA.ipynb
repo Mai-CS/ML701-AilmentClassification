{
  "nbformat": 4,
  "nbformat_minor": 0,
  "metadata": {
    "colab": {
      "provenance": [],
      "collapsed_sections": []
    },
    "kernelspec": {
      "name": "python3",
      "display_name": "Python 3"
    },
    "language_info": {
      "name": "python"
    }
  },
  "cells": [
    {
      "cell_type": "code",
      "execution_count": null,
      "metadata": {
        "id": "IrEkZNyr3UPg"
      },
      "outputs": [],
      "source": [
        "n=10##population size\n",
        "m=7##good bees\n",
        "e=3 ## the elite bees\n",
        "num=2##numbers of the LSTM parameters number of epoch and number of units in lstm\n",
        "nep=4\n",
        "nsp=2\n",
        "ngh=1\n",
        "opt=np.zeros([1,num+1])\n",
        "population=np.zeros([n,num+1])## second parameter is the LSTM parameters\n",
        "good=np.zeros([m-e,num+1])\n",
        "elite=np.zeros([e,num+1])\n",
        "iter=1\n",
        "for i in range(n):\n",
        "  ##generate the parameters using uniform distribution function\n",
        "  population(i,0)=random.uniform(10, 50, size=None) #first parameter\n",
        "  population(i,1)=random.uniform(8, 128, size=None) #second parameter\n",
        "  #evaluate the population\n",
        "  \n",
        "##order the pop decesntly based on the evaluation value\n",
        "#opt=first bee in pop\n",
        "iter=1\n",
        "maxIter=100\n",
        "while(iter<=maxIter):\n",
        "  for i in range(e):\n",
        "    ##call local search for elite and update pop\n",
        "    population(i,)=LocalSearch(population(i,),'elite',nep,nsp,ngh,num)\n",
        "  for j in range(m-e):\n",
        "    ##call local search for remaining good bees and update pop\n",
        "    i=i+1\n",
        "    population(i,)=LocalSearch(population(i,),'good',nep,nsp,ngh,num)\n",
        "    ##generate the remaingin of population randomly end evaluate\n",
        "    i=i+1\n",
        "    while(i<n):\n",
        "      population(i,0)=random.uniform(10, 50, size=None) #first parameter\n",
        "      population(i,1)=random.uniform(8, 128, size=None) #second parameter\n",
        "      #evaluate the population\n",
        "  #sort the population\n",
        "  #opt= the first bee in the population\n"
      ]
    },
    {
      "cell_type": "code",
      "source": [
        "def LocalSearch(bee,st,nep,nsp,ngh,num):\n",
        "  if(st=='elite'):\n",
        "    newBees=np.zeros([nep,num+1])\n",
        "    for i in range(nep):\n",
        "      ##generate new bee in neighborhood of current bee\n",
        "      nbee=np.zeros(1,num+1)\n",
        "      nbee[i,0]=random.uniform(bee(0,0)-ngh,bee(0,0)+ngh, size=None) first parameter\n",
        "      nbee[i,1]=random.uniform(bee(0,1)-ngh, bee(0,1)-ngh, size=None) second parameter\n",
        "      ##evaluate new bee\n",
        "      ##if the evaluation of new bee is better than original keep it else save the original\n",
        "      if nbee(0,num)<=bee(0,num):\n",
        "        newBees(i,)=nbee\n",
        "      else:\n",
        "        newBees(i,)=bee\n",
        "    else:\n",
        "      #newBees=np.zeros([nep,num+1])\n",
        "      for i in range(nsp):\n",
        "      ##generate new bee in neighborhood of current bee\n",
        "      #nbee=np.zeros(1,num+1)\n",
        "      #nbee[i,0]=random.uniform(bee(0,0)-ngh,bee(0,0)+ngh, size=None) first parameter\n",
        "      #nbee[i,1]=random.uniform(bee(0,1)-ngh, bee(0,1)-ngh, size=None) second parameter\n",
        "      #evaluate new bee\n",
        "      ##if the evaluation of new bee is better than original keep it else save the original\n",
        "      if nbee(0,num)<=bee(0,num):\n",
        "        newBees(i,)=nbee;\n",
        "      else:\n",
        "        newBees(i,)=bee;\n",
        "    return newBees"
      ],
      "metadata": {
        "id": "O3aZt_g-3hzD"
      },
      "execution_count": null,
      "outputs": []
    },
    {
      "cell_type": "code",
      "source": [
        "def Evaluation(bee,n,num):\n",
        "  ##train NN and calculate the accuracy\n",
        "  for i in range(n):\n",
        "    ##\n",
        "    ##bee(i,num)=accuracy"
      ],
      "metadata": {
        "id": "pfsTegSi3n98"
      },
      "execution_count": null,
      "outputs": []
    }
  ]
}