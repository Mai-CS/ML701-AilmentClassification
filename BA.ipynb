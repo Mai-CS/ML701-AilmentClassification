{
 "cells": [
  {
   "cell_type": "code",
   "execution_count": null,
   "metadata": {},
   "outputs": [],
   "source": [
    "import numpy as np\n",
    "import random\n",
    "import tensorflow as tf\n",
    "# %pip install tensorflow-gpu\n",
    "\n",
    "# %pip install cuda\n",
    "\n",
    "# %pip install cudnn\n"
   ]
  },
  {
   "cell_type": "code",
   "execution_count": null,
   "metadata": {},
   "outputs": [],
   "source": [
    "# https://www.tensorflow.org/install/pip"
   ]
  },
  {
   "cell_type": "code",
   "execution_count": null,
   "metadata": {},
   "outputs": [],
   "source": [
    "# conda install -c conda-forge cudatoolkit=11.2 cudnn=8.1.0\n",
    "# export LD_LIBRARY_PATH=$LD_LIBRARY_PATH:$CONDA_PREFIX/lib/\n",
    "# python3 -m pip install tensorflow\n",
    "# # Verify install:\n",
    "# python3 -c \"import tensorflow as tf; print(tf.config.list_physical_devices('GPU'))\""
   ]
  },
  {
   "cell_type": "code",
   "execution_count": null,
   "metadata": {
    "scrolled": true
   },
   "outputs": [],
   "source": [
    "# tf.test.is_gpu_available(\n",
    "#     cuda_only=False, min_cuda_compute_capability=None\n",
    "# )"
   ]
  },
  {
   "cell_type": "code",
   "execution_count": null,
   "metadata": {},
   "outputs": [],
   "source": [
    "# import tensorflow as tf\n",
    "# print(\"Num GPUs Available: \", len(tf.config.list_physical_devices('GPU')))\n",
    "\n",
    "# tf.debugging.set_log_device_placement(True)\n",
    "\n",
    "# # Place tensors on the CPU\n",
    "# with tf.device('/CPU:0'):\n",
    "#   a = tf.constant([[1.0, 2.0, 3.0], [4.0, 5.0, 6.0]])\n",
    "#   b = tf.constant([[1.0, 2.0], [3.0, 4.0], [5.0, 6.0]])\n",
    "\n",
    "# # Run on the GPU\n",
    "# c = tf.matmul(a, b)\n",
    "# print(c)\n",
    "\n"
   ]
  },
  {
   "cell_type": "code",
   "execution_count": null,
   "metadata": {},
   "outputs": [],
   "source": [
    "# print(\"Num GPUs Available: \", len(tf.config.experimental.list_physical_devices('GPU')))\n",
    "\n",
    "# tf.config.list_physical_devices('GPU')\n",
    "\n",
    "# from tensorflow.python.client import device_lib\n",
    "\n",
    "# device_lib.list_local_devices()\n",
    "\n",
    "# tf.test.is_built_with_cuda()\n",
    "\n",
    "# tf.debugging.set_log_device_placement(True)"
   ]
  },
  {
   "cell_type": "code",
   "execution_count": null,
   "metadata": {},
   "outputs": [],
   "source": [
    "!pip install nltk\n",
    "import nltk\n",
    "nltk.download('punkt')\n",
    "nltk.download('stopwords')\n",
    "nltk.download('wordnet')\n",
    "nltk.download('omw-1.4')"
   ]
  },
  {
   "cell_type": "code",
   "execution_count": null,
   "metadata": {},
   "outputs": [],
   "source": [
    "import os\n",
    "import sys\n",
    "my_lib_path = os.path.abspath(\n",
    "    '/home/mai.kassem/Documents/ML701-AilmentClassification/')\n",
    "sys.path.append(my_lib_path)\n",
    "import lstm_builder"
   ]
  },
  {
   "cell_type": "code",
   "execution_count": null,
   "metadata": {
    "id": "IrEkZNyr3UPg"
   },
   "outputs": [],
   "source": [
    "n = 10  # population size\n",
    "m = 7  # good bees\n",
    "e = 3  # the elite bees\n",
    "num = 2  # numbers of the LSTM parameters - number of epochs and number of units\n",
    "nep = 4\n",
    "nsp = 2\n",
    "ngh = 1  # neighborhood size\n",
    "opt = np.zeros([1, num+1])  # the result (i.e., the optimal bee)\n",
    "# second parameter is the LSTM parameters + the accuracy\n",
    "population = np.zeros([n, num+1])\n",
    "good = np.zeros([m-e, num+1])\n",
    "elite = np.zeros([e, num+1])\n",
    "\n",
    "epochs_start = 10\n",
    "epochs_end = 50\n",
    "units_start = 8\n",
    "units_end = 128\n"
   ]
  },
  {
   "cell_type": "code",
   "execution_count": null,
   "metadata": {},
   "outputs": [],
   "source": [
    "def generate_bee(index):\n",
    "    # generate the parameters using uniform distribution function\n",
    "    # first parameter\n",
    "    population[index][0] = int(random.uniform(epochs_start, epochs_end))\n",
    "    # second parameter\n",
    "    population[index][1] = int(random.uniform(units_start, units_end))\n"
   ]
  },
  {
   "cell_type": "code",
   "execution_count": null,
   "metadata": {
    "id": "pfsTegSi3n98"
   },
   "outputs": [],
   "source": [
    "def evaluate(bee):\n",
    "    # train NN and calculate the accuracy\n",
    "    # accuracy = random.randint(90, 99)\n",
    "    model = lstm_builder.LSTM(num_epochs=int(bee[0]), num_units=int(bee[1]))\n",
    "    predicted_target, actual_target, average_accuracy = lstm_builder.evaluate_model(\n",
    "        model)\n",
    "    bee[num] = average_accuracy\n",
    "    return bee\n"
   ]
  },
  {
   "cell_type": "code",
   "execution_count": null,
   "metadata": {},
   "outputs": [],
   "source": [
    "def sort_bees(unsorted):\n",
    "    return np.array(sorted(unsorted, key=lambda x: x[num], reverse=True))\n"
   ]
  },
  {
   "cell_type": "code",
   "execution_count": null,
   "metadata": {},
   "outputs": [],
   "source": [
    "def local_search(bee, st, amount):\n",
    "    new_bees = np.zeros([amount, num+1])\n",
    "    for i in range(amount):\n",
    "        # generate new bee in neighborhood of current bee\n",
    "        nbee = [0, 0, 0]\n",
    "        # first parameter\n",
    "        nbee[0] = int(random.uniform(bee[0]-ngh, bee[0]+ngh))\n",
    "        # second parameter\n",
    "        nbee[1] = int(random.uniform(bee[1]-ngh, bee[1]-ngh))\n",
    "        # evaluate new bee\n",
    "        nbee = evaluate(nbee)\n",
    "        # if the evaluation of new bee is better than original, keep it else save the original\n",
    "        if nbee[num] > bee[num]:\n",
    "            new_bees[i] = nbee\n",
    "        else:\n",
    "            new_bees[i] = bee\n",
    "\n",
    "    new_bees = sort_bees(new_bees)\n",
    "    return new_bees[0]\n"
   ]
  },
  {
   "cell_type": "code",
   "execution_count": null,
   "metadata": {},
   "outputs": [],
   "source": [
    "for i in range(n):\n",
    "    generate_bee(i)\n",
    "    # evaluate the population\n",
    "    population[i] = evaluate(population[i])\n",
    "\n",
    "# sort the population decesntly based on the evaluation value (i.e., accuracy)\n",
    "population = sort_bees(population)\n",
    "\n",
    "# opt=first bee in the population\n",
    "opt = population[0]\n"
   ]
  },
  {
   "cell_type": "code",
   "execution_count": null,
   "metadata": {},
   "outputs": [],
   "source": [
    "print(population)\n",
    "print()\n",
    "print(opt)\n"
   ]
  },
  {
   "cell_type": "code",
   "execution_count": null,
   "metadata": {},
   "outputs": [],
   "source": [
    "maxIter = 10\n",
    "for iter in range(maxIter):\n",
    "    print(\"Iteration==========================\", iter)\n",
    "    print(population)\n",
    "\n",
    "    for i in range(e):\n",
    "        # call local search for elite and update the population\n",
    "        population[i] = local_search(population[i], 'elite', nep)\n",
    "    for j in range(i, m):\n",
    "        # call local search for the remaining good bees and update the population\n",
    "        # i = i+1\n",
    "        population[j] = local_search(population[j], 'good', nsp)\n",
    "        # generate the remaining of the population randomly and evaluate\n",
    "        # i = i+1\n",
    "        # while (i <= n):\n",
    "        #     generate_bee(i)\n",
    "        #     # evaluate the population\n",
    "        #     population[i] = evaluate(population[i])\n",
    "\n",
    "    for k in range(j, n):\n",
    "        # generate the remaining of the population randomly and evaluate\n",
    "        generate_bee(k)\n",
    "        # evaluate the population\n",
    "        population[k] = evaluate(population[k])\n",
    "\n",
    "    # sort the population\n",
    "    population = sort_bees(population)\n",
    "    # opt= the first bee in the population\n",
    "    opt = population[0]\n"
   ]
  },
  {
   "cell_type": "code",
   "execution_count": null,
   "metadata": {},
   "outputs": [],
   "source": [
    "print(population)\n",
    "print()\n",
    "print(opt)\n"
   ]
  }
 ],
 "metadata": {
  "colab": {
   "collapsed_sections": [],
   "provenance": []
  },
  "kernelspec": {
   "display_name": "tf",
   "language": "python",
   "name": "tf"
  },
  "language_info": {
   "codemirror_mode": {
    "name": "ipython",
    "version": 3
   },
   "file_extension": ".py",
   "mimetype": "text/x-python",
   "name": "python",
   "nbconvert_exporter": "python",
   "pygments_lexer": "ipython3",
   "version": "3.9.13"
  },
  "vscode": {
   "interpreter": {
    "hash": "683053e189b94f37d3150c4d84ff59d08f1fb12133c38803c02eedcc0e1ae247"
   }
  }
 },
 "nbformat": 4,
 "nbformat_minor": 1
}
