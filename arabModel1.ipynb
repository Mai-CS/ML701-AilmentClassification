{
  "nbformat": 4,
  "nbformat_minor": 0,
  "metadata": {
    "colab": {
      "provenance": [],
      "collapsed_sections": []
    },
    "kernelspec": {
      "name": "python3",
      "display_name": "Python 3"
    },
    "language_info": {
      "name": "python"
    }
  },
  "cells": [
    {
      "cell_type": "code",
      "execution_count": 1,
      "metadata": {
        "id": "B5ofdkQ5ezHg"
      },
      "outputs": [],
      "source": [
        "import pandas as pd"
      ]
    },
    {
      "cell_type": "code",
      "source": [
        "ailments_data = pd.read_excel('ailments_arabic.xlsx',header = None)\n",
        "ailments_data.rename(columns = {0:'phrase', 1:'prompt'}, inplace = True)"
      ],
      "metadata": {
        "id": "f0jQsObRfdDk"
      },
      "execution_count": 18,
      "outputs": []
    },
    {
      "cell_type": "code",
      "source": [
        "ailments_data.head()"
      ],
      "metadata": {
        "colab": {
          "base_uri": "https://localhost:8080/",
          "height": 204
        },
        "id": "3ONO1yzYfuxD",
        "outputId": "77084efa-f5d1-4785-abe0-b00a399bfd1b"
      },
      "execution_count": 29,
      "outputs": [
        {
          "output_type": "execute_result",
          "data": {
            "text/plain": [
              "                                              phrase   prompt\n",
              "0      أنا أعاني من صعوبة في التنفس و التكلم و البلع  Allergy\n",
              "1       أنا أعاني من القيء و الاسهال و ألم في المعدة  Allergy\n",
              "2  لقد أغمي علي  وانا أشعر بالتوتر لأن نبضات قلبي...  Allergy\n",
              "3                 أبدأ أن أعطس عندما أكون بجوار زهرة  Allergy\n",
              "4                  يصبح جلدي أحمر على اتصال مع الملح  Allergy"
            ],
            "text/html": [
              "\n",
              "  <div id=\"df-1638a9dd-4e8c-462c-a5c5-189248f4e4d2\">\n",
              "    <div class=\"colab-df-container\">\n",
              "      <div>\n",
              "<style scoped>\n",
              "    .dataframe tbody tr th:only-of-type {\n",
              "        vertical-align: middle;\n",
              "    }\n",
              "\n",
              "    .dataframe tbody tr th {\n",
              "        vertical-align: top;\n",
              "    }\n",
              "\n",
              "    .dataframe thead th {\n",
              "        text-align: right;\n",
              "    }\n",
              "</style>\n",
              "<table border=\"1\" class=\"dataframe\">\n",
              "  <thead>\n",
              "    <tr style=\"text-align: right;\">\n",
              "      <th></th>\n",
              "      <th>phrase</th>\n",
              "      <th>prompt</th>\n",
              "    </tr>\n",
              "  </thead>\n",
              "  <tbody>\n",
              "    <tr>\n",
              "      <th>0</th>\n",
              "      <td>أنا أعاني من صعوبة في التنفس و التكلم و البلع</td>\n",
              "      <td>Allergy</td>\n",
              "    </tr>\n",
              "    <tr>\n",
              "      <th>1</th>\n",
              "      <td>أنا أعاني من القيء و الاسهال و ألم في المعدة</td>\n",
              "      <td>Allergy</td>\n",
              "    </tr>\n",
              "    <tr>\n",
              "      <th>2</th>\n",
              "      <td>لقد أغمي علي  وانا أشعر بالتوتر لأن نبضات قلبي...</td>\n",
              "      <td>Allergy</td>\n",
              "    </tr>\n",
              "    <tr>\n",
              "      <th>3</th>\n",
              "      <td>أبدأ أن أعطس عندما أكون بجوار زهرة</td>\n",
              "      <td>Allergy</td>\n",
              "    </tr>\n",
              "    <tr>\n",
              "      <th>4</th>\n",
              "      <td>يصبح جلدي أحمر على اتصال مع الملح</td>\n",
              "      <td>Allergy</td>\n",
              "    </tr>\n",
              "  </tbody>\n",
              "</table>\n",
              "</div>\n",
              "      <button class=\"colab-df-convert\" onclick=\"convertToInteractive('df-1638a9dd-4e8c-462c-a5c5-189248f4e4d2')\"\n",
              "              title=\"Convert this dataframe to an interactive table.\"\n",
              "              style=\"display:none;\">\n",
              "        \n",
              "  <svg xmlns=\"http://www.w3.org/2000/svg\" height=\"24px\"viewBox=\"0 0 24 24\"\n",
              "       width=\"24px\">\n",
              "    <path d=\"M0 0h24v24H0V0z\" fill=\"none\"/>\n",
              "    <path d=\"M18.56 5.44l.94 2.06.94-2.06 2.06-.94-2.06-.94-.94-2.06-.94 2.06-2.06.94zm-11 1L8.5 8.5l.94-2.06 2.06-.94-2.06-.94L8.5 2.5l-.94 2.06-2.06.94zm10 10l.94 2.06.94-2.06 2.06-.94-2.06-.94-.94-2.06-.94 2.06-2.06.94z\"/><path d=\"M17.41 7.96l-1.37-1.37c-.4-.4-.92-.59-1.43-.59-.52 0-1.04.2-1.43.59L10.3 9.45l-7.72 7.72c-.78.78-.78 2.05 0 2.83L4 21.41c.39.39.9.59 1.41.59.51 0 1.02-.2 1.41-.59l7.78-7.78 2.81-2.81c.8-.78.8-2.07 0-2.86zM5.41 20L4 18.59l7.72-7.72 1.47 1.35L5.41 20z\"/>\n",
              "  </svg>\n",
              "      </button>\n",
              "      \n",
              "  <style>\n",
              "    .colab-df-container {\n",
              "      display:flex;\n",
              "      flex-wrap:wrap;\n",
              "      gap: 12px;\n",
              "    }\n",
              "\n",
              "    .colab-df-convert {\n",
              "      background-color: #E8F0FE;\n",
              "      border: none;\n",
              "      border-radius: 50%;\n",
              "      cursor: pointer;\n",
              "      display: none;\n",
              "      fill: #1967D2;\n",
              "      height: 32px;\n",
              "      padding: 0 0 0 0;\n",
              "      width: 32px;\n",
              "    }\n",
              "\n",
              "    .colab-df-convert:hover {\n",
              "      background-color: #E2EBFA;\n",
              "      box-shadow: 0px 1px 2px rgba(60, 64, 67, 0.3), 0px 1px 3px 1px rgba(60, 64, 67, 0.15);\n",
              "      fill: #174EA6;\n",
              "    }\n",
              "\n",
              "    [theme=dark] .colab-df-convert {\n",
              "      background-color: #3B4455;\n",
              "      fill: #D2E3FC;\n",
              "    }\n",
              "\n",
              "    [theme=dark] .colab-df-convert:hover {\n",
              "      background-color: #434B5C;\n",
              "      box-shadow: 0px 1px 3px 1px rgba(0, 0, 0, 0.15);\n",
              "      filter: drop-shadow(0px 1px 2px rgba(0, 0, 0, 0.3));\n",
              "      fill: #FFFFFF;\n",
              "    }\n",
              "  </style>\n",
              "\n",
              "      <script>\n",
              "        const buttonEl =\n",
              "          document.querySelector('#df-1638a9dd-4e8c-462c-a5c5-189248f4e4d2 button.colab-df-convert');\n",
              "        buttonEl.style.display =\n",
              "          google.colab.kernel.accessAllowed ? 'block' : 'none';\n",
              "\n",
              "        async function convertToInteractive(key) {\n",
              "          const element = document.querySelector('#df-1638a9dd-4e8c-462c-a5c5-189248f4e4d2');\n",
              "          const dataTable =\n",
              "            await google.colab.kernel.invokeFunction('convertToInteractive',\n",
              "                                                     [key], {});\n",
              "          if (!dataTable) return;\n",
              "\n",
              "          const docLinkHtml = 'Like what you see? Visit the ' +\n",
              "            '<a target=\"_blank\" href=https://colab.research.google.com/notebooks/data_table.ipynb>data table notebook</a>'\n",
              "            + ' to learn more about interactive tables.';\n",
              "          element.innerHTML = '';\n",
              "          dataTable['output_type'] = 'display_data';\n",
              "          await google.colab.output.renderOutput(dataTable, element);\n",
              "          const docLink = document.createElement('div');\n",
              "          docLink.innerHTML = docLinkHtml;\n",
              "          element.appendChild(docLink);\n",
              "        }\n",
              "      </script>\n",
              "    </div>\n",
              "  </div>\n",
              "  "
            ]
          },
          "metadata": {},
          "execution_count": 29
        }
      ]
    },
    {
      "cell_type": "code",
      "source": [
        "print(\"Missing values: \", ailments_data.isnull().sum())\n",
        "ailments_data = ailments_data.drop_duplicates()"
      ],
      "metadata": {
        "colab": {
          "base_uri": "https://localhost:8080/"
        },
        "id": "f0NWqkhbf2Pj",
        "outputId": "52ee9185-acd4-4e5c-d360-5fae314bbe61"
      },
      "execution_count": 31,
      "outputs": [
        {
          "output_type": "stream",
          "name": "stdout",
          "text": [
            "Missing values:  phrase    0\n",
            "prompt    0\n",
            "dtype: int64\n"
          ]
        }
      ]
    },
    {
      "cell_type": "code",
      "source": [
        "ailments_data.shape"
      ],
      "metadata": {
        "colab": {
          "base_uri": "https://localhost:8080/"
        },
        "id": "Nyg_aX-kgCQU",
        "outputId": "c1de454e-dae2-4b7c-c1ce-28a003478c61"
      },
      "execution_count": 32,
      "outputs": [
        {
          "output_type": "execute_result",
          "data": {
            "text/plain": [
              "(151, 2)"
            ]
          },
          "metadata": {},
          "execution_count": 32
        }
      ]
    },
    {
      "cell_type": "code",
      "source": [
        "%pip install nlpaug"
      ],
      "metadata": {
        "colab": {
          "base_uri": "https://localhost:8080/"
        },
        "id": "M6vMzbX940uH",
        "outputId": "258a5414-d8c4-447b-97de-8bc7b3a2f087"
      },
      "execution_count": 90,
      "outputs": [
        {
          "output_type": "stream",
          "name": "stdout",
          "text": [
            "Looking in indexes: https://pypi.org/simple, https://us-python.pkg.dev/colab-wheels/public/simple/\n",
            "Collecting nlpaug\n",
            "  Downloading nlpaug-1.1.11-py3-none-any.whl (410 kB)\n",
            "\u001b[K     |████████████████████████████████| 410 kB 4.2 MB/s \n",
            "\u001b[?25hRequirement already satisfied: requests>=2.22.0 in /usr/local/lib/python3.7/dist-packages (from nlpaug) (2.23.0)\n",
            "Requirement already satisfied: gdown>=4.0.0 in /usr/local/lib/python3.7/dist-packages (from nlpaug) (4.4.0)\n",
            "Requirement already satisfied: numpy>=1.16.2 in /usr/local/lib/python3.7/dist-packages (from nlpaug) (1.21.6)\n",
            "Requirement already satisfied: pandas>=1.2.0 in /usr/local/lib/python3.7/dist-packages (from nlpaug) (1.3.5)\n",
            "Requirement already satisfied: tqdm in /usr/local/lib/python3.7/dist-packages (from gdown>=4.0.0->nlpaug) (4.64.1)\n",
            "Requirement already satisfied: six in /usr/local/lib/python3.7/dist-packages (from gdown>=4.0.0->nlpaug) (1.15.0)\n",
            "Requirement already satisfied: filelock in /usr/local/lib/python3.7/dist-packages (from gdown>=4.0.0->nlpaug) (3.8.0)\n",
            "Requirement already satisfied: beautifulsoup4 in /usr/local/lib/python3.7/dist-packages (from gdown>=4.0.0->nlpaug) (4.6.3)\n",
            "Requirement already satisfied: pytz>=2017.3 in /usr/local/lib/python3.7/dist-packages (from pandas>=1.2.0->nlpaug) (2022.5)\n",
            "Requirement already satisfied: python-dateutil>=2.7.3 in /usr/local/lib/python3.7/dist-packages (from pandas>=1.2.0->nlpaug) (2.8.2)\n",
            "Requirement already satisfied: idna<3,>=2.5 in /usr/local/lib/python3.7/dist-packages (from requests>=2.22.0->nlpaug) (2.10)\n",
            "Requirement already satisfied: urllib3!=1.25.0,!=1.25.1,<1.26,>=1.21.1 in /usr/local/lib/python3.7/dist-packages (from requests>=2.22.0->nlpaug) (1.24.3)\n",
            "Requirement already satisfied: chardet<4,>=3.0.2 in /usr/local/lib/python3.7/dist-packages (from requests>=2.22.0->nlpaug) (3.0.4)\n",
            "Requirement already satisfied: certifi>=2017.4.17 in /usr/local/lib/python3.7/dist-packages (from requests>=2.22.0->nlpaug) (2022.9.24)\n",
            "Requirement already satisfied: PySocks!=1.5.7,>=1.5.6 in /usr/local/lib/python3.7/dist-packages (from requests>=2.22.0->nlpaug) (1.7.1)\n",
            "Installing collected packages: nlpaug\n",
            "Successfully installed nlpaug-1.1.11\n"
          ]
        }
      ]
    },
    {
      "cell_type": "code",
      "source": [
        "import nlpaug.augmenter.sentence as nas\n",
        "import nlpaug.augmenter.word as naw\n",
        "import nlpaug.augmenter.char as nac\n",
        "%pip install nlpaug\n",
        "aug_data = ailments_data.head(0)\n",
        "texts = ailments_data['phrase'][0]\n",
        "label = ailments_data['prompt'][0]\n",
        "aug = naw.RandomWordAug(action=\"swap\")\n",
        "# aug = naw.SynonymAug(aug_src='wordnet')\n",
        "augmented_text = aug.augment(texts, n=4)\n",
        "\n",
        "for string in augmented_text:\n",
        "    aug_data = aug_data.append({'phrase': string,\n",
        "                                'prompt': label},\n",
        "                                ignore_index=True)"
      ],
      "metadata": {
        "colab": {
          "base_uri": "https://localhost:8080/"
        },
        "id": "5E5OXX0e4qJv",
        "outputId": "76f2d247-0918-430a-d40a-ddf01acc5511"
      },
      "execution_count": 94,
      "outputs": [
        {
          "output_type": "stream",
          "name": "stdout",
          "text": [
            "Looking in indexes: https://pypi.org/simple, https://us-python.pkg.dev/colab-wheels/public/simple/\n",
            "Requirement already satisfied: nlpaug in /usr/local/lib/python3.7/dist-packages (1.1.11)\n",
            "Requirement already satisfied: numpy>=1.16.2 in /usr/local/lib/python3.7/dist-packages (from nlpaug) (1.21.6)\n",
            "Requirement already satisfied: gdown>=4.0.0 in /usr/local/lib/python3.7/dist-packages (from nlpaug) (4.4.0)\n",
            "Requirement already satisfied: requests>=2.22.0 in /usr/local/lib/python3.7/dist-packages (from nlpaug) (2.23.0)\n",
            "Requirement already satisfied: pandas>=1.2.0 in /usr/local/lib/python3.7/dist-packages (from nlpaug) (1.3.5)\n",
            "Requirement already satisfied: six in /usr/local/lib/python3.7/dist-packages (from gdown>=4.0.0->nlpaug) (1.15.0)\n",
            "Requirement already satisfied: tqdm in /usr/local/lib/python3.7/dist-packages (from gdown>=4.0.0->nlpaug) (4.64.1)\n",
            "Requirement already satisfied: beautifulsoup4 in /usr/local/lib/python3.7/dist-packages (from gdown>=4.0.0->nlpaug) (4.6.3)\n",
            "Requirement already satisfied: filelock in /usr/local/lib/python3.7/dist-packages (from gdown>=4.0.0->nlpaug) (3.8.0)\n",
            "Requirement already satisfied: pytz>=2017.3 in /usr/local/lib/python3.7/dist-packages (from pandas>=1.2.0->nlpaug) (2022.5)\n",
            "Requirement already satisfied: python-dateutil>=2.7.3 in /usr/local/lib/python3.7/dist-packages (from pandas>=1.2.0->nlpaug) (2.8.2)\n",
            "Requirement already satisfied: chardet<4,>=3.0.2 in /usr/local/lib/python3.7/dist-packages (from requests>=2.22.0->nlpaug) (3.0.4)\n",
            "Requirement already satisfied: certifi>=2017.4.17 in /usr/local/lib/python3.7/dist-packages (from requests>=2.22.0->nlpaug) (2022.9.24)\n",
            "Requirement already satisfied: urllib3!=1.25.0,!=1.25.1,<1.26,>=1.21.1 in /usr/local/lib/python3.7/dist-packages (from requests>=2.22.0->nlpaug) (1.24.3)\n",
            "Requirement already satisfied: idna<3,>=2.5 in /usr/local/lib/python3.7/dist-packages (from requests>=2.22.0->nlpaug) (2.10)\n",
            "Requirement already satisfied: PySocks!=1.5.7,>=1.5.6 in /usr/local/lib/python3.7/dist-packages (from requests>=2.22.0->nlpaug) (1.7.1)\n"
          ]
        }
      ]
    },
    {
      "cell_type": "code",
      "source": [
        "aug_data"
      ],
      "metadata": {
        "colab": {
          "base_uri": "https://localhost:8080/",
          "height": 173
        },
        "id": "EM5tM-8-5Fg3",
        "outputId": "03b08520-7d42-405d-9ef5-52fbe4df2ac2"
      },
      "execution_count": 95,
      "outputs": [
        {
          "output_type": "execute_result",
          "data": {
            "text/plain": [
              "                                          phrase   prompt transformed_phrase\n",
              "0  أعاني أنا من صعوبة في التنفس و البلع التكلم و  Allergy                NaN\n",
              "1  أنا صعوبة أعاني من في و التنفس التكلم و البلع  Allergy                NaN\n",
              "2  أنا أعاني صعوبة من في التنفس التكلم و البلع و  Allergy                NaN\n",
              "3  أنا من أعاني في صعوبة التنفس و التكلم البلع و  Allergy                NaN"
            ],
            "text/html": [
              "\n",
              "  <div id=\"df-9a45485f-b671-4d90-a843-802a1dccf9fb\">\n",
              "    <div class=\"colab-df-container\">\n",
              "      <div>\n",
              "<style scoped>\n",
              "    .dataframe tbody tr th:only-of-type {\n",
              "        vertical-align: middle;\n",
              "    }\n",
              "\n",
              "    .dataframe tbody tr th {\n",
              "        vertical-align: top;\n",
              "    }\n",
              "\n",
              "    .dataframe thead th {\n",
              "        text-align: right;\n",
              "    }\n",
              "</style>\n",
              "<table border=\"1\" class=\"dataframe\">\n",
              "  <thead>\n",
              "    <tr style=\"text-align: right;\">\n",
              "      <th></th>\n",
              "      <th>phrase</th>\n",
              "      <th>prompt</th>\n",
              "      <th>transformed_phrase</th>\n",
              "    </tr>\n",
              "  </thead>\n",
              "  <tbody>\n",
              "    <tr>\n",
              "      <th>0</th>\n",
              "      <td>أعاني أنا من صعوبة في التنفس و البلع التكلم و</td>\n",
              "      <td>Allergy</td>\n",
              "      <td>NaN</td>\n",
              "    </tr>\n",
              "    <tr>\n",
              "      <th>1</th>\n",
              "      <td>أنا صعوبة أعاني من في و التنفس التكلم و البلع</td>\n",
              "      <td>Allergy</td>\n",
              "      <td>NaN</td>\n",
              "    </tr>\n",
              "    <tr>\n",
              "      <th>2</th>\n",
              "      <td>أنا أعاني صعوبة من في التنفس التكلم و البلع و</td>\n",
              "      <td>Allergy</td>\n",
              "      <td>NaN</td>\n",
              "    </tr>\n",
              "    <tr>\n",
              "      <th>3</th>\n",
              "      <td>أنا من أعاني في صعوبة التنفس و التكلم البلع و</td>\n",
              "      <td>Allergy</td>\n",
              "      <td>NaN</td>\n",
              "    </tr>\n",
              "  </tbody>\n",
              "</table>\n",
              "</div>\n",
              "      <button class=\"colab-df-convert\" onclick=\"convertToInteractive('df-9a45485f-b671-4d90-a843-802a1dccf9fb')\"\n",
              "              title=\"Convert this dataframe to an interactive table.\"\n",
              "              style=\"display:none;\">\n",
              "        \n",
              "  <svg xmlns=\"http://www.w3.org/2000/svg\" height=\"24px\"viewBox=\"0 0 24 24\"\n",
              "       width=\"24px\">\n",
              "    <path d=\"M0 0h24v24H0V0z\" fill=\"none\"/>\n",
              "    <path d=\"M18.56 5.44l.94 2.06.94-2.06 2.06-.94-2.06-.94-.94-2.06-.94 2.06-2.06.94zm-11 1L8.5 8.5l.94-2.06 2.06-.94-2.06-.94L8.5 2.5l-.94 2.06-2.06.94zm10 10l.94 2.06.94-2.06 2.06-.94-2.06-.94-.94-2.06-.94 2.06-2.06.94z\"/><path d=\"M17.41 7.96l-1.37-1.37c-.4-.4-.92-.59-1.43-.59-.52 0-1.04.2-1.43.59L10.3 9.45l-7.72 7.72c-.78.78-.78 2.05 0 2.83L4 21.41c.39.39.9.59 1.41.59.51 0 1.02-.2 1.41-.59l7.78-7.78 2.81-2.81c.8-.78.8-2.07 0-2.86zM5.41 20L4 18.59l7.72-7.72 1.47 1.35L5.41 20z\"/>\n",
              "  </svg>\n",
              "      </button>\n",
              "      \n",
              "  <style>\n",
              "    .colab-df-container {\n",
              "      display:flex;\n",
              "      flex-wrap:wrap;\n",
              "      gap: 12px;\n",
              "    }\n",
              "\n",
              "    .colab-df-convert {\n",
              "      background-color: #E8F0FE;\n",
              "      border: none;\n",
              "      border-radius: 50%;\n",
              "      cursor: pointer;\n",
              "      display: none;\n",
              "      fill: #1967D2;\n",
              "      height: 32px;\n",
              "      padding: 0 0 0 0;\n",
              "      width: 32px;\n",
              "    }\n",
              "\n",
              "    .colab-df-convert:hover {\n",
              "      background-color: #E2EBFA;\n",
              "      box-shadow: 0px 1px 2px rgba(60, 64, 67, 0.3), 0px 1px 3px 1px rgba(60, 64, 67, 0.15);\n",
              "      fill: #174EA6;\n",
              "    }\n",
              "\n",
              "    [theme=dark] .colab-df-convert {\n",
              "      background-color: #3B4455;\n",
              "      fill: #D2E3FC;\n",
              "    }\n",
              "\n",
              "    [theme=dark] .colab-df-convert:hover {\n",
              "      background-color: #434B5C;\n",
              "      box-shadow: 0px 1px 3px 1px rgba(0, 0, 0, 0.15);\n",
              "      filter: drop-shadow(0px 1px 2px rgba(0, 0, 0, 0.3));\n",
              "      fill: #FFFFFF;\n",
              "    }\n",
              "  </style>\n",
              "\n",
              "      <script>\n",
              "        const buttonEl =\n",
              "          document.querySelector('#df-9a45485f-b671-4d90-a843-802a1dccf9fb button.colab-df-convert');\n",
              "        buttonEl.style.display =\n",
              "          google.colab.kernel.accessAllowed ? 'block' : 'none';\n",
              "\n",
              "        async function convertToInteractive(key) {\n",
              "          const element = document.querySelector('#df-9a45485f-b671-4d90-a843-802a1dccf9fb');\n",
              "          const dataTable =\n",
              "            await google.colab.kernel.invokeFunction('convertToInteractive',\n",
              "                                                     [key], {});\n",
              "          if (!dataTable) return;\n",
              "\n",
              "          const docLinkHtml = 'Like what you see? Visit the ' +\n",
              "            '<a target=\"_blank\" href=https://colab.research.google.com/notebooks/data_table.ipynb>data table notebook</a>'\n",
              "            + ' to learn more about interactive tables.';\n",
              "          element.innerHTML = '';\n",
              "          dataTable['output_type'] = 'display_data';\n",
              "          await google.colab.output.renderOutput(dataTable, element);\n",
              "          const docLink = document.createElement('div');\n",
              "          docLink.innerHTML = docLinkHtml;\n",
              "          element.appendChild(docLink);\n",
              "        }\n",
              "      </script>\n",
              "    </div>\n",
              "  </div>\n",
              "  "
            ]
          },
          "metadata": {},
          "execution_count": 95
        }
      ]
    },
    {
      "cell_type": "code",
      "source": [
        "\n",
        "from collections import Counter\n",
        "# Number of ailments\n",
        "print('Number of categories: ', ailments_data['prompt'].nunique())\n",
        "\n",
        "# Print class distribution\n",
        "counter = Counter(ailments_data['prompt'])\n",
        "for k, v in counter.items():\n",
        "    per = v / len(ailments_data['prompt']) * 100\n",
        "    print('Class=%s, n=%d (%.3f%%)' % (k, v, per))"
      ],
      "metadata": {
        "colab": {
          "base_uri": "https://localhost:8080/"
        },
        "id": "F_YnXSzAhkF2",
        "outputId": "96497d35-367e-4322-b86b-05d6cb268cb2"
      },
      "execution_count": 34,
      "outputs": [
        {
          "output_type": "stream",
          "name": "stdout",
          "text": [
            "Number of categories:  7\n",
            "Class=Allergy, n=21 (13.907%)\n",
            "Class=Anemia, n=28 (18.543%)\n",
            "Class=Bronchitis, n=16 (10.596%)\n",
            "Class=Diarrhea, n=12 (7.947%)\n",
            "Class=Fatigue, n=20 (13.245%)\n",
            "Class=Flu, n=31 (20.530%)\n",
            "Class=Stress, n=23 (15.232%)\n"
          ]
        }
      ]
    },
    {
      "cell_type": "code",
      "source": [
        "import matplotlib.pyplot as plt\n",
        "plt.figure(figsize=(10, 5))\n",
        "ailments_data['prompt'].value_counts().plot(kind='bar')\n",
        "plt.xlabel('Ailments')\n",
        "plt.ylabel('Occurrences')\n",
        "plt.show()"
      ],
      "metadata": {
        "colab": {
          "base_uri": "https://localhost:8080/",
          "height": 374
        },
        "id": "bYVG7Zz6iFe1",
        "outputId": "92b9b5da-1d89-4a47-b704-f03db65aee7d"
      },
      "execution_count": 36,
      "outputs": [
        {
          "output_type": "display_data",
          "data": {
            "text/plain": [
              "<Figure size 720x360 with 1 Axes>"
            ],
            "image/png": "[encoded data removed]"
          },
          "metadata": {
            "needs_background": "light"
          }
        }
      ]
    },
    {
      "cell_type": "code",
      "source": [
        "\n",
        "from sklearn import preprocessing\n",
        "import numpy\n",
        "# Convert labels to numbers\n",
        "le = preprocessing.LabelEncoder()\n",
        "le.fit(ailments_data['prompt'])\n",
        "\n",
        "le.classes_\n",
        "\n",
        "\n",
        "y = le.transform(ailments_data['prompt'])\n",
        "# print(le.inverse_transform(y))\n",
        "\n",
        "\n",
        "# compare before and after\n",
        "print(ailments_data['prompt'].value_counts())\n",
        "unique, counts = numpy.unique(y, return_counts=True)\n",
        "afterEncoder = dict(zip(unique, counts))\n",
        "dict(sorted(afterEncoder.items(), key=lambda item: item[1], reverse=True))"
      ],
      "metadata": {
        "colab": {
          "base_uri": "https://localhost:8080/"
        },
        "id": "3CU4S-poiMHm",
        "outputId": "204256ee-7fd0-4433-c48b-19d53f05773f"
      },
      "execution_count": 37,
      "outputs": [
        {
          "output_type": "stream",
          "name": "stdout",
          "text": [
            "Flu           31\n",
            "Anemia        28\n",
            "Stress        23\n",
            "Allergy       21\n",
            "Fatigue       20\n",
            "Bronchitis    16\n",
            "Diarrhea      12\n",
            "Name: prompt, dtype: int64\n"
          ]
        },
        {
          "output_type": "execute_result",
          "data": {
            "text/plain": [
              "{5: 31, 1: 28, 6: 23, 0: 21, 4: 20, 2: 16, 3: 12}"
            ]
          },
          "metadata": {},
          "execution_count": 37
        }
      ]
    },
    {
      "cell_type": "code",
      "source": [
        "import string\n",
        "from nltk.stem import WordNetLemmatizer\n",
        "from nltk.tokenize import word_tokenize\n",
        "from nltk.corpus import stopwords\n",
        "import nltk\n",
        "import qalsadi.lemmatizer\n",
        "%pip install nltk\n",
        "nltk.download('punkt')\n",
        "nltk.download('stopwords')\n",
        "nltk.download('wordnet')\n",
        "nltk.download('omw-1.4')\n",
        "\n",
        "\n",
        "def text_transform(message):\n",
        "\n",
        "    # (a) change the message to lowercase\n",
        "    message = message.lower()\n",
        "\n",
        "    # (b) tokenize the message,\n",
        "    # i.e. if input = 'i am a student.'\n",
        "    # then, output  = ['i', 'am', 'a', 'student', '.']\n",
        "    message = nltk.word_tokenize(message)\n",
        "\n",
        "    # (c) remove special characters in the message\n",
        "    msg_temp = []\n",
        "    for word in message:\n",
        "        # only accpet the alpha-numeric words and remove all other cases e.g. special characters\n",
        "        if word.isalnum():\n",
        "            msg_temp.append(word)\n",
        "\n",
        "    message = msg_temp\n",
        "\n",
        "    # (d) remove stopwords and punctuations\n",
        "    msg_temp = []\n",
        "    for word in message:\n",
        "        if word not in stopwords.words('arabic') and word not in string.punctuation:\n",
        "            msg_temp.append(word)\n",
        "\n",
        "    message = msg_temp\n",
        "\n",
        "    # (e) lemmatization function\n",
        "    lemmer = qalsadi.lemmatizer.Lemmatizer()\n",
        "    msg_temp = []\n",
        "    for word in message:\n",
        "        msg_temp.append(lemmer.lemmatize(word))\n",
        "\n",
        "    # join all words with space and return new message\n",
        "    new_message = \" \".join(msg_temp)\n",
        "\n",
        "    return new_message\n",
        "\n",
        "\n",
        "ailments_data\n",
        "# apply the pre-processing steps via text_transform() function on text data\n",
        "ailments_data['transformed_phrase'] = ailments_data['phrase'].apply(\n",
        "    text_transform)\n",
        "\n",
        "X = ailments_data.transformed_phrase\n",
        "X.tail()"
      ],
      "metadata": {
        "colab": {
          "base_uri": "https://localhost:8080/"
        },
        "id": "iKiA6ZZ-ipKG",
        "outputId": "eb74a41a-1faa-4372-9b78-a6f16964e70d"
      },
      "execution_count": 54,
      "outputs": [
        {
          "output_type": "stream",
          "name": "stdout",
          "text": [
            "Looking in indexes: https://pypi.org/simple, https://us-python.pkg.dev/colab-wheels/public/simple/\n",
            "Requirement already satisfied: nltk in /usr/local/lib/python3.7/dist-packages (3.7)\n",
            "Requirement already satisfied: joblib in /usr/local/lib/python3.7/dist-packages (from nltk) (1.2.0)\n",
            "Requirement already satisfied: tqdm in /usr/local/lib/python3.7/dist-packages (from nltk) (4.64.1)\n",
            "Requirement already satisfied: click in /usr/local/lib/python3.7/dist-packages (from nltk) (7.1.2)\n",
            "Requirement already satisfied: regex>=2021.8.3 in /usr/local/lib/python3.7/dist-packages (from nltk) (2022.6.2)\n"
          ]
        },
        {
          "output_type": "stream",
          "name": "stderr",
          "text": [
            "[nltk_data] Downloading package punkt to /root/nltk_data...\n",
            "[nltk_data]   Package punkt is already up-to-date!\n",
            "[nltk_data] Downloading package stopwords to /root/nltk_data...\n",
            "[nltk_data]   Package stopwords is already up-to-date!\n",
            "[nltk_data] Downloading package wordnet to /root/nltk_data...\n",
            "[nltk_data]   Package wordnet is already up-to-date!\n",
            "[nltk_data] Downloading package omw-1.4 to /root/nltk_data...\n",
            "[nltk_data]   Package omw-1.4 is already up-to-date!\n"
          ]
        },
        {
          "output_type": "execute_result",
          "data": {
            "text/plain": [
              "147                                      قلق جدا\n",
              "148                                   أراد نعسان\n",
              "149    انزعاج قلق حسا نوع ظهر موت فقط يم أخف نفس\n",
              "150                             شعر حزن والاحباط\n",
              "151                    أطاع نوم خلال فترة امتحان\n",
              "Name: transformed_phrase, dtype: object"
            ]
          },
          "metadata": {},
          "execution_count": 54
        }
      ]
    },
    {
      "cell_type": "code",
      "source": [
        "ailments_data.head()"
      ],
      "metadata": {
        "colab": {
          "base_uri": "https://localhost:8080/",
          "height": 204
        },
        "id": "4bVhQ0PHis8m",
        "outputId": "08a26834-30f9-476d-a85c-cf515db2b26b"
      },
      "execution_count": 56,
      "outputs": [
        {
          "output_type": "execute_result",
          "data": {
            "text/plain": [
              "                                              phrase   prompt  \\\n",
              "0      أنا أعاني من صعوبة في التنفس و التكلم و البلع  Allergy   \n",
              "1       أنا أعاني من القيء و الاسهال و ألم في المعدة  Allergy   \n",
              "2  لقد أغمي علي  وانا أشعر بالتوتر لأن نبضات قلبي...  Allergy   \n",
              "3                 أبدأ أن أعطس عندما أكون بجوار زهرة  Allergy   \n",
              "4                  يصبح جلدي أحمر على اتصال مع الملح  Allergy   \n",
              "\n",
              "                         transformed_phrase  \n",
              "0                  عانة صعوبة تنفس تكلم بلع  \n",
              "1                   عانة قيء الاسهال لم معد  \n",
              "2  قد غمة علي وانا شعر توتر أن نبض قلب سريع  \n",
              "3              أبدأ عطس عندما كون جوار زهرة  \n",
              "4                     صبح جلد حمر اتصال ملح  "
            ],
            "text/html": [
              "\n",
              "  <div id=\"df-0ffc5334-fda8-4ad6-b5ce-099e3cf2ef6d\">\n",
              "    <div class=\"colab-df-container\">\n",
              "      <div>\n",
              "<style scoped>\n",
              "    .dataframe tbody tr th:only-of-type {\n",
              "        vertical-align: middle;\n",
              "    }\n",
              "\n",
              "    .dataframe tbody tr th {\n",
              "        vertical-align: top;\n",
              "    }\n",
              "\n",
              "    .dataframe thead th {\n",
              "        text-align: right;\n",
              "    }\n",
              "</style>\n",
              "<table border=\"1\" class=\"dataframe\">\n",
              "  <thead>\n",
              "    <tr style=\"text-align: right;\">\n",
              "      <th></th>\n",
              "      <th>phrase</th>\n",
              "      <th>prompt</th>\n",
              "      <th>transformed_phrase</th>\n",
              "    </tr>\n",
              "  </thead>\n",
              "  <tbody>\n",
              "    <tr>\n",
              "      <th>0</th>\n",
              "      <td>أنا أعاني من صعوبة في التنفس و التكلم و البلع</td>\n",
              "      <td>Allergy</td>\n",
              "      <td>عانة صعوبة تنفس تكلم بلع</td>\n",
              "    </tr>\n",
              "    <tr>\n",
              "      <th>1</th>\n",
              "      <td>أنا أعاني من القيء و الاسهال و ألم في المعدة</td>\n",
              "      <td>Allergy</td>\n",
              "      <td>عانة قيء الاسهال لم معد</td>\n",
              "    </tr>\n",
              "    <tr>\n",
              "      <th>2</th>\n",
              "      <td>لقد أغمي علي  وانا أشعر بالتوتر لأن نبضات قلبي...</td>\n",
              "      <td>Allergy</td>\n",
              "      <td>قد غمة علي وانا شعر توتر أن نبض قلب سريع</td>\n",
              "    </tr>\n",
              "    <tr>\n",
              "      <th>3</th>\n",
              "      <td>أبدأ أن أعطس عندما أكون بجوار زهرة</td>\n",
              "      <td>Allergy</td>\n",
              "      <td>أبدأ عطس عندما كون جوار زهرة</td>\n",
              "    </tr>\n",
              "    <tr>\n",
              "      <th>4</th>\n",
              "      <td>يصبح جلدي أحمر على اتصال مع الملح</td>\n",
              "      <td>Allergy</td>\n",
              "      <td>صبح جلد حمر اتصال ملح</td>\n",
              "    </tr>\n",
              "  </tbody>\n",
              "</table>\n",
              "</div>\n",
              "      <button class=\"colab-df-convert\" onclick=\"convertToInteractive('df-0ffc5334-fda8-4ad6-b5ce-099e3cf2ef6d')\"\n",
              "              title=\"Convert this dataframe to an interactive table.\"\n",
              "              style=\"display:none;\">\n",
              "        \n",
              "  <svg xmlns=\"http://www.w3.org/2000/svg\" height=\"24px\"viewBox=\"0 0 24 24\"\n",
              "       width=\"24px\">\n",
              "    <path d=\"M0 0h24v24H0V0z\" fill=\"none\"/>\n",
              "    <path d=\"M18.56 5.44l.94 2.06.94-2.06 2.06-.94-2.06-.94-.94-2.06-.94 2.06-2.06.94zm-11 1L8.5 8.5l.94-2.06 2.06-.94-2.06-.94L8.5 2.5l-.94 2.06-2.06.94zm10 10l.94 2.06.94-2.06 2.06-.94-2.06-.94-.94-2.06-.94 2.06-2.06.94z\"/><path d=\"M17.41 7.96l-1.37-1.37c-.4-.4-.92-.59-1.43-.59-.52 0-1.04.2-1.43.59L10.3 9.45l-7.72 7.72c-.78.78-.78 2.05 0 2.83L4 21.41c.39.39.9.59 1.41.59.51 0 1.02-.2 1.41-.59l7.78-7.78 2.81-2.81c.8-.78.8-2.07 0-2.86zM5.41 20L4 18.59l7.72-7.72 1.47 1.35L5.41 20z\"/>\n",
              "  </svg>\n",
              "      </button>\n",
              "      \n",
              "  <style>\n",
              "    .colab-df-container {\n",
              "      display:flex;\n",
              "      flex-wrap:wrap;\n",
              "      gap: 12px;\n",
              "    }\n",
              "\n",
              "    .colab-df-convert {\n",
              "      background-color: #E8F0FE;\n",
              "      border: none;\n",
              "      border-radius: 50%;\n",
              "      cursor: pointer;\n",
              "      display: none;\n",
              "      fill: #1967D2;\n",
              "      height: 32px;\n",
              "      padding: 0 0 0 0;\n",
              "      width: 32px;\n",
              "    }\n",
              "\n",
              "    .colab-df-convert:hover {\n",
              "      background-color: #E2EBFA;\n",
              "      box-shadow: 0px 1px 2px rgba(60, 64, 67, 0.3), 0px 1px 3px 1px rgba(60, 64, 67, 0.15);\n",
              "      fill: #174EA6;\n",
              "    }\n",
              "\n",
              "    [theme=dark] .colab-df-convert {\n",
              "      background-color: #3B4455;\n",
              "      fill: #D2E3FC;\n",
              "    }\n",
              "\n",
              "    [theme=dark] .colab-df-convert:hover {\n",
              "      background-color: #434B5C;\n",
              "      box-shadow: 0px 1px 3px 1px rgba(0, 0, 0, 0.15);\n",
              "      filter: drop-shadow(0px 1px 2px rgba(0, 0, 0, 0.3));\n",
              "      fill: #FFFFFF;\n",
              "    }\n",
              "  </style>\n",
              "\n",
              "      <script>\n",
              "        const buttonEl =\n",
              "          document.querySelector('#df-0ffc5334-fda8-4ad6-b5ce-099e3cf2ef6d button.colab-df-convert');\n",
              "        buttonEl.style.display =\n",
              "          google.colab.kernel.accessAllowed ? 'block' : 'none';\n",
              "\n",
              "        async function convertToInteractive(key) {\n",
              "          const element = document.querySelector('#df-0ffc5334-fda8-4ad6-b5ce-099e3cf2ef6d');\n",
              "          const dataTable =\n",
              "            await google.colab.kernel.invokeFunction('convertToInteractive',\n",
              "                                                     [key], {});\n",
              "          if (!dataTable) return;\n",
              "\n",
              "          const docLinkHtml = 'Like what you see? Visit the ' +\n",
              "            '<a target=\"_blank\" href=https://colab.research.google.com/notebooks/data_table.ipynb>data table notebook</a>'\n",
              "            + ' to learn more about interactive tables.';\n",
              "          element.innerHTML = '';\n",
              "          dataTable['output_type'] = 'display_data';\n",
              "          await google.colab.output.renderOutput(dataTable, element);\n",
              "          const docLink = document.createElement('div');\n",
              "          docLink.innerHTML = docLinkHtml;\n",
              "          element.appendChild(docLink);\n",
              "        }\n",
              "      </script>\n",
              "    </div>\n",
              "  </div>\n",
              "  "
            ]
          },
          "metadata": {},
          "execution_count": 56
        }
      ]
    },
    {
      "cell_type": "code",
      "source": [
        "#pip install qalsadi"
      ],
      "metadata": {
        "id": "GAOms9RakV_O"
      },
      "execution_count": null,
      "outputs": []
    },
    {
      "cell_type": "code",
      "source": [
        "# import qalsadi.lemmatizer\n",
        "# lemmer = qalsadi.lemmatizer.Lemmatizer()\n",
        "# lemmas = lemmer.lemmatize_text(ailments_data.iloc[1,0])"
      ],
      "metadata": {
        "colab": {
          "base_uri": "https://localhost:8080/"
        },
        "id": "ebozyqzXjA44",
        "outputId": "9ff72b99-ffc4-424d-8520-274a68025538"
      },
      "execution_count": 52,
      "outputs": [
        {
          "output_type": "stream",
          "name": "stderr",
          "text": [
            "Exception ignored in: <function WordFreqDictionary.__del__ at 0x7fc0696beb00>\n",
            "Traceback (most recent call last):\n",
            "  File \"/usr/local/lib/python3.7/dist-packages/arramooz/wordfreqdictionaryclass.py\", line 130, in __del__\n",
            "    self.db_connect.close()\n",
            "sqlite3.ProgrammingError: SQLite objects created in a thread can only be used in that same thread. The object was created in thread id 140465340069760 and this is thread id 140464917538560.\n",
            "Exception ignored in: <function ArabicDictionary.__del__ at 0x7fc068150290>\n",
            "Traceback (most recent call last):\n",
            "  File \"/usr/local/lib/python3.7/dist-packages/arramooz/arabicdictionary.py\", line 112, in __del__\n",
            "    self.db_connect.close()\n",
            "sqlite3.ProgrammingError: SQLite objects created in a thread can only be used in that same thread. The object was created in thread id 140465340069760 and this is thread id 140464917538560.\n",
            "Exception ignored in: <function ArabicDictionary.__del__ at 0x7fc068150290>\n",
            "Traceback (most recent call last):\n",
            "  File \"/usr/local/lib/python3.7/dist-packages/arramooz/arabicdictionary.py\", line 112, in __del__\n",
            "    self.db_connect.close()\n",
            "sqlite3.ProgrammingError: SQLite objects created in a thread can only be used in that same thread. The object was created in thread id 140465340069760 and this is thread id 140464917538560.\n",
            "Exception ignored in: <function ArabicDictionary.__del__ at 0x7fc068150290>\n",
            "Traceback (most recent call last):\n",
            "  File \"/usr/local/lib/python3.7/dist-packages/arramooz/arabicdictionary.py\", line 112, in __del__\n",
            "    self.db_connect.close()\n",
            "sqlite3.ProgrammingError: SQLite objects created in a thread can only be used in that same thread. The object was created in thread id 140465340069760 and this is thread id 140464917538560.\n",
            "Exception ignored in: <function ArabicDictionary.__del__ at 0x7fc068150290>\n",
            "Traceback (most recent call last):\n",
            "  File \"/usr/local/lib/python3.7/dist-packages/arramooz/arabicdictionary.py\", line 112, in __del__\n",
            "    self.db_connect.close()\n",
            "sqlite3.ProgrammingError: SQLite objects created in a thread can only be used in that same thread. The object was created in thread id 140465340069760 and this is thread id 140464917538560.\n",
            "Exception ignored in: <function WordFreqDictionary.__del__ at 0x7fc0696beb00>\n",
            "Traceback (most recent call last):\n",
            "  File \"/usr/local/lib/python3.7/dist-packages/arramooz/wordfreqdictionaryclass.py\", line 130, in __del__\n",
            "    self.db_connect.close()\n",
            "sqlite3.ProgrammingError: SQLite objects created in a thread can only be used in that same thread. The object was created in thread id 140465340069760 and this is thread id 140464917538560.\n",
            "Exception ignored in: <function StopWordsDictionary.__del__ at 0x7fc068083680>\n",
            "Traceback (most recent call last):\n",
            "  File \"/usr/local/lib/python3.7/dist-packages/arramooz/stopwordsdictionaryclass.py\", line 98, in __del__\n",
            "    self.db_connect.close()\n",
            "sqlite3.ProgrammingError: SQLite objects created in a thread can only be used in that same thread. The object was created in thread id 140465340069760 and this is thread id 140464917538560.\n"
          ]
        }
      ]
    },
    {
      "cell_type": "code",
      "source": [
        "# lemmas"
      ],
      "metadata": {
        "colab": {
          "base_uri": "https://localhost:8080/"
        },
        "id": "91cHtlCGkKB8",
        "outputId": "94a06539-158e-4312-efa0-a0d2990bb63b"
      },
      "execution_count": 53,
      "outputs": [
        {
          "output_type": "execute_result",
          "data": {
            "text/plain": [
              "['أنا', 'عانة', 'من', 'قيء', 'و', 'الاسهال', 'و', 'لم', 'في', 'معد']"
            ]
          },
          "metadata": {},
          "execution_count": 53
        }
      ]
    },
    {
      "cell_type": "code",
      "source": [
        "import seaborn as sns\n",
        "# count unique words\n",
        "\n",
        "def counter_word(text_col):\n",
        "    count = Counter()\n",
        "    for text in text_col.values:\n",
        "        for word in text.split():\n",
        "            count[word] += 1\n",
        "    return count\n",
        "\n",
        "\n",
        "counter = counter_word(ailments_data['transformed_phrase'])\n",
        "\n",
        "\n",
        "num_unique_words = len(counter)\n",
        "print(\"Total number of unique words : \" + str(num_unique_words))\n",
        "\n",
        "# print(counter)\n",
        "\n",
        "counted_df = pd.DataFrame(counter.items(), columns=['word', 'count']).sort_values(\n",
        "    'count', ascending=False).reset_index(drop=True)  # create new df from counter\n",
        "\n",
        "plt.figure(figsize=(12, 4))\n",
        "# plot only the top 10 by slicing the df\n",
        "sns.barplot(data=counted_df[:10], x='word', y='count', alpha=0.8)\n",
        "plt.ylabel('Number of Occurrences', fontsize=12)\n",
        "plt.xlabel('Word', fontsize=12)\n",
        "plt.xticks(rotation=90)\n",
        "plt.show()"
      ],
      "metadata": {
        "colab": {
          "base_uri": "https://localhost:8080/",
          "height": 329
        },
        "id": "IiDo3D9akQpL",
        "outputId": "4f18364e-5d24-45aa-b1cc-6adb5480d9ed"
      },
      "execution_count": 58,
      "outputs": [
        {
          "output_type": "stream",
          "name": "stdout",
          "text": [
            "Total number of unique words : 298\n"
          ]
        },
        {
          "output_type": "display_data",
          "data": {
            "text/plain": [
              "<Figure size 864x288 with 1 Axes>"
            ],
            "image/png": "[encoded data removed]"
          },
          "metadata": {
            "needs_background": "light"
          }
        }
      ]
    },
    {
      "cell_type": "code",
      "source": [
        "from tensorflow.keras.preprocessing.text import text_to_word_sequence\n",
        "\n",
        "\n",
        "def get_max_input_length(docs):\n",
        "    max_input_length = 1\n",
        "    for document in docs:\n",
        "        words = text_to_word_sequence(document)\n",
        "        document_length = len(words)\n",
        "        if document_length > max_input_length:\n",
        "            max_input_length = document_length\n",
        "\n",
        "    return max_input_length"
      ],
      "metadata": {
        "id": "YbNE9j8Yl1o8"
      },
      "execution_count": 59,
      "outputs": []
    },
    {
      "cell_type": "code",
      "source": [
        "from tensorflow.keras.preprocessing.text import Tokenizer\n",
        "\n",
        "# Vectorize a text corpus by turning each text into a sequence of integers\n",
        "\n",
        "tokenizer = Tokenizer(num_words=num_unique_words)\n",
        "tokenizer.fit_on_texts(X)\n",
        "\n",
        "# Each word has a unique index\n",
        "\n",
        "word_index = tokenizer.word_index\n",
        "\n",
        "word_index"
      ],
      "metadata": {
        "colab": {
          "base_uri": "https://localhost:8080/"
        },
        "id": "5ONlmHXImFoR",
        "outputId": "5d608eba-6e1c-4780-ab0e-e1b984f5c774"
      },
      "execution_count": 60,
      "outputs": [
        {
          "output_type": "execute_result",
          "data": {
            "text/plain": [
              "{'لد': 1,\n",
              " 'شعر': 2,\n",
              " 'صعوبة': 3,\n",
              " 'جدا': 4,\n",
              " 'جد': 5,\n",
              " 'صداع': 6,\n",
              " 'تنفس': 7,\n",
              " 'معد': 8,\n",
              " 'عندما': 9,\n",
              " 'أطاع': 10,\n",
              " 'حلق': 11,\n",
              " 'جلد': 12,\n",
              " 'عانة': 13,\n",
              " 'لم': 14,\n",
              " 'قد': 15,\n",
              " 'قلب': 16,\n",
              " 'رأس': 17,\n",
              " 'فقد': 18,\n",
              " 'آلام': 19,\n",
              " 'أنام': 20,\n",
              " 'حس': 21,\n",
              " 'شديد': 22,\n",
              " 'جاف': 23,\n",
              " 'شاحب': 24,\n",
              " 'شهي': 25,\n",
              " 'دار': 26,\n",
              " 'تركيز': 27,\n",
              " 'سعل': 28,\n",
              " 'أراد': 29,\n",
              " 'غثيان': 30,\n",
              " 'حمى': 31,\n",
              " 'بلع': 32,\n",
              " 'الاسهال': 33,\n",
              " 'سريع': 34,\n",
              " 'صبح': 35,\n",
              " 'حك': 36,\n",
              " 'حساس': 37,\n",
              " 'ضد': 38,\n",
              " 'عين': 39,\n",
              " 'جيد': 40,\n",
              " 'سيلان': 41,\n",
              " 'كنت': 42,\n",
              " 'خفقان': 43,\n",
              " 'سرع': 44,\n",
              " 'جسم': 45,\n",
              " 'شكل': 46,\n",
              " 'ضعف': 47,\n",
              " 'ليل': 48,\n",
              " 'يألمني': 49,\n",
              " 'نوم': 50,\n",
              " 'انا': 51,\n",
              " 'نعسان': 52,\n",
              " 'التهاب': 53,\n",
              " 'عرق': 54,\n",
              " 'مشاكل': 55,\n",
              " 'غضب': 56,\n",
              " 'قلق': 57,\n",
              " 'تكلم': 58,\n",
              " 'قيء': 59,\n",
              " 'غمة': 60,\n",
              " 'أن': 61,\n",
              " 'عطس': 62,\n",
              " 'رقبة': 63,\n",
              " 'غبار': 64,\n",
              " 'مواد': 65,\n",
              " 'بشر': 66,\n",
              " 'أنف': 67,\n",
              " 'يد': 68,\n",
              " 'تقيأ': 69,\n",
              " 'ظهر': 70,\n",
              " 'وجه': 71,\n",
              " 'أضاع': 72,\n",
              " 'ولد': 73,\n",
              " 'أظافر': 74,\n",
              " 'ضعيف': 75,\n",
              " 'حول': 76,\n",
              " 'بيئة': 77,\n",
              " 'داق': 78,\n",
              " 'راسي': 79,\n",
              " 'استيقظ': 80,\n",
              " 'متزايد': 81,\n",
              " 'بضع': 82,\n",
              " 'كاد': 83,\n",
              " 'هش': 84,\n",
              " 'محموم': 85,\n",
              " 'يألمانني': 86,\n",
              " 'صوة': 87,\n",
              " 'سعال': 88,\n",
              " 'صدر': 89,\n",
              " 'ألم': 90,\n",
              " 'أود': 91,\n",
              " 'طبيعة': 92,\n",
              " 'بطن': 93,\n",
              " 'عند': 94,\n",
              " 'وزن': 95,\n",
              " 'الام': 96,\n",
              " 'ونى': 97,\n",
              " 'تعب': 98,\n",
              " 'قدم': 99,\n",
              " 'ذراع': 100,\n",
              " 'قوة': 101,\n",
              " 'تحري': 102,\n",
              " 'مفاصل': 103,\n",
              " 'نزل': 104,\n",
              " 'برد': 105,\n",
              " 'رطب': 106,\n",
              " 'اضطراب': 107,\n",
              " 'نفس': 108,\n",
              " 'علي': 109,\n",
              " 'وانا': 110,\n",
              " 'توتر': 111,\n",
              " 'نبض': 112,\n",
              " 'أبدأ': 113,\n",
              " 'كون': 114,\n",
              " 'جوار': 115,\n",
              " 'زهرة': 116,\n",
              " 'حمر': 117,\n",
              " 'اتصال': 118,\n",
              " 'ملح': 119,\n",
              " 'تورم': 120,\n",
              " 'قوم': 121,\n",
              " 'نفض': 122,\n",
              " 'كيميائي': 123,\n",
              " 'غراء': 124,\n",
              " 'طفح': 125,\n",
              " 'بالم': 126,\n",
              " 'شروق': 127,\n",
              " 'شمس': 128,\n",
              " 'أطاق': 129,\n",
              " 'صابون': 130,\n",
              " 'حمراء': 131,\n",
              " 'مرة': 132,\n",
              " 'استخدام': 133,\n",
              " 'تبييض': 134,\n",
              " 'طفل': 135,\n",
              " 'تناول': 136,\n",
              " 'حليب': 137,\n",
              " 'اصطناع': 138,\n",
              " 'حويصلة': 139,\n",
              " 'ماكياج': 140,\n",
              " 'إصبع': 141,\n",
              " 'خاتم': 142,\n",
              " 'خاصة': 143,\n",
              " 'بناء': 144,\n",
              " 'أيدي': 145,\n",
              " 'أغشية': 146,\n",
              " 'ضيق': 147,\n",
              " 'طن': 148,\n",
              " 'أذن': 149,\n",
              " 'تساقط': 150,\n",
              " 'جائع': 151,\n",
              " 'ينبض': 152,\n",
              " 'كبير': 153,\n",
              " 'بيضاء': 154,\n",
              " 'اصفرار': 155,\n",
              " 'نحيف': 156,\n",
              " 'شعور': 157,\n",
              " 'أسقط': 158,\n",
              " 'علو': 159,\n",
              " 'مرتفع': 160,\n",
              " 'أسرع': 161,\n",
              " 'أبطأ': 162,\n",
              " 'عدم': 163,\n",
              " 'انتظام': 164,\n",
              " 'وعي': 165,\n",
              " 'سبب': 166,\n",
              " 'أشهر': 167,\n",
              " 'استطاع': 168,\n",
              " 'دوار': 169,\n",
              " 'قيام': 170,\n",
              " 'أداء': 171,\n",
              " 'وظيف': 172,\n",
              " 'معتاد': 173,\n",
              " 'خش': 174,\n",
              " 'حاد': 175,\n",
              " 'قهر': 176,\n",
              " 'سحق': 177,\n",
              " 'بلغم': 178,\n",
              " 'أصفر': 179,\n",
              " 'أخضر': 180,\n",
              " 'قوى': 181,\n",
              " 'اغتنم': 182,\n",
              " 'نفاس': 183,\n",
              " 'كلام': 184,\n",
              " 'كثير': 185,\n",
              " 'أمكن': 186,\n",
              " 'ان': 187,\n",
              " 'اتحدث': 188,\n",
              " 'قيح': 189,\n",
              " 'بصاق': 190,\n",
              " 'اتنفس': 191,\n",
              " 'بذل': 192,\n",
              " 'جهد': 193,\n",
              " 'حمة': 194,\n",
              " 'رهيب': 195,\n",
              " 'آلم': 196,\n",
              " 'إسهال': 197,\n",
              " 'مؤخر': 198,\n",
              " 'اتباع': 199,\n",
              " 'نظام': 200,\n",
              " 'غذاء': 201,\n",
              " 'مزعج': 202,\n",
              " 'بالارهاق': 203,\n",
              " 'نهوض': 204,\n",
              " 'صباح': 205,\n",
              " 'رغم': 206,\n",
              " 'نمى': 207,\n",
              " 'عموم': 208,\n",
              " 'طاق': 209,\n",
              " 'وقت': 210,\n",
              " 'أصابع': 211,\n",
              " 'بأ': 212,\n",
              " 'صحيح': 213,\n",
              " 'أعضاء': 214,\n",
              " 'ساق': 215,\n",
              " 'كتاب': 216,\n",
              " 'خز': 217,\n",
              " 'جزاء': 218,\n",
              " 'حير': 219,\n",
              " 'اجراء': 220,\n",
              " 'محادث': 221,\n",
              " 'اقدرعلى': 222,\n",
              " 'مشي': 223,\n",
              " 'نعاس': 224,\n",
              " 'مشوش': 225,\n",
              " 'واقف': 226,\n",
              " 'متعب': 227,\n",
              " 'كنى': 228,\n",
              " 'أي': 229,\n",
              " 'متع': 230,\n",
              " 'ممارس': 231,\n",
              " 'أنشطة': 232,\n",
              " 'يوم': 233,\n",
              " 'عاد': 234,\n",
              " 'حبا': 235,\n",
              " 'ارتفاع': 236,\n",
              " 'درج': 237,\n",
              " 'حسى': 238,\n",
              " 'ايضا': 239,\n",
              " 'مستوى': 240,\n",
              " 'تسبب': 241,\n",
              " 'قشعريرة': 242,\n",
              " 'عيون': 243,\n",
              " 'دامع': 244,\n",
              " 'حاسة': 245,\n",
              " 'تذوق': 246,\n",
              " 'اعتقد': 247,\n",
              " 'مصاب': 248,\n",
              " 'بالأنفلونزا': 249,\n",
              " 'حرار': 250,\n",
              " 'ارتعش': 251,\n",
              " 'تحرك': 252,\n",
              " 'كل': 253,\n",
              " 'اشتد': 254,\n",
              " 'سواء': 255,\n",
              " 'تدريج': 256,\n",
              " 'زيادة': 257,\n",
              " 'تواتر': 258,\n",
              " 'أكثر': 259,\n",
              " 'كثاف': 260,\n",
              " 'عضل': 261,\n",
              " 'انسداد': 262,\n",
              " 'تحمل': 263,\n",
              " 'ضوء': 264,\n",
              " 'ضوضاء': 265,\n",
              " 'أخذ': 266,\n",
              " 'دواء': 267,\n",
              " 'بارد': 268,\n",
              " 'جهاز': 269,\n",
              " 'هضم': 270,\n",
              " 'قرح': 271,\n",
              " 'دقة': 272,\n",
              " 'لاسباب': 273,\n",
              " 'مختلف': 274,\n",
              " 'مفرط': 275,\n",
              " 'غير': 276,\n",
              " 'نوبة': 277,\n",
              " 'مخاوف': 278,\n",
              " 'اكتئاب': 279,\n",
              " 'مشكل': 280,\n",
              " 'أرق': 281,\n",
              " 'مؤقت': 282,\n",
              " 'عقد': 283,\n",
              " 'حلم': 284,\n",
              " 'كوابيس': 285,\n",
              " 'اتقيء': 286,\n",
              " 'انزعاج': 287,\n",
              " 'حسا': 288,\n",
              " 'نوع': 289,\n",
              " 'موت': 290,\n",
              " 'فقط': 291,\n",
              " 'يم': 292,\n",
              " 'أخف': 293,\n",
              " 'حزن': 294,\n",
              " 'والاحباط': 295,\n",
              " 'خلال': 296,\n",
              " 'فترة': 297,\n",
              " 'امتحان': 298}"
            ]
          },
          "metadata": {},
          "execution_count": 60
        }
      ]
    },
    {
      "cell_type": "code",
      "source": [
        "X"
      ],
      "metadata": {
        "colab": {
          "base_uri": "https://localhost:8080/"
        },
        "id": "IQBJiZfkmv_J",
        "outputId": "3c43c457-2272-481b-c6d5-c107c48e4b3b"
      },
      "execution_count": 84,
      "outputs": [
        {
          "output_type": "execute_result",
          "data": {
            "text/plain": [
              "array([[ 13,   3,   7, ...,   0,   0,   0],\n",
              "       [ 13,  59,  33, ...,   0,   0,   0],\n",
              "       [ 15,  60, 109, ..., 112,  16,  34],\n",
              "       ...,\n",
              "       [287,  57, 288, ..., 292, 293, 108],\n",
              "       [  2, 294, 295, ...,   0,   0,   0],\n",
              "       [ 10,  50, 296, ...,   0,   0,   0]], dtype=int32)"
            ]
          },
          "metadata": {},
          "execution_count": 84
        }
      ]
    },
    {
      "cell_type": "code",
      "source": [
        "\n",
        "# Max number of words in a sequence\n",
        "max_length = get_max_input_length(X)\n",
        "print(\"max_length: \", max_length)\n",
        "\n",
        "train_sequences = tokenizer.texts_to_sequences(X)\n"
      ],
      "metadata": {
        "colab": {
          "base_uri": "https://localhost:8080/"
        },
        "id": "H4aMxHDMmAe7",
        "outputId": "0df86e06-af42-41fa-c4c0-3a59eb1f4ccd"
      },
      "execution_count": 61,
      "outputs": [
        {
          "output_type": "stream",
          "name": "stdout",
          "text": [
            "max_length:  10\n"
          ]
        }
      ]
    },
    {
      "cell_type": "code",
      "source": [
        "train_sequences"
      ],
      "metadata": {
        "colab": {
          "base_uri": "https://localhost:8080/"
        },
        "id": "yCBmPomQv8x7",
        "outputId": "6e935cc2-429f-49b4-b9b3-428f9ac07285"
      },
      "execution_count": 88,
      "outputs": [
        {
          "output_type": "execute_result",
          "data": {
            "text/plain": [
              "[[13, 3, 7, 58, 32],\n",
              " [13, 59, 33, 14, 8],\n",
              " [15, 60, 109, 110, 2, 111, 61, 112, 16, 34],\n",
              " [113, 62, 9, 114, 115, 116],\n",
              " [35, 12, 117, 118, 119],\n",
              " [13, 120, 63],\n",
              " [62, 9, 121, 122, 64],\n",
              " [1, 36, 12],\n",
              " [1, 37, 65, 123],\n",
              " [1, 37, 38, 64],\n",
              " [66, 37, 38, 124],\n",
              " [1, 125, 12],\n",
              " [21, 126, 39],\n",
              " [127, 128, 10, 7, 40],\n",
              " [129, 130],\n",
              " [1, 41, 67],\n",
              " [1, 68, 131, 132, 42, 133, 65, 134],\n",
              " [135, 69, 136, 137, 138],\n",
              " [70, 139, 71, 72, 140],\n",
              " [1, 36, 22, 141, 142, 143],\n",
              " [144, 73, 145, 35, 23, 4],\n",
              " [24, 12, 146, 43, 147, 7],\n",
              " [1, 148, 149],\n",
              " [24, 39],\n",
              " [1, 71, 24],\n",
              " [1, 150, 2],\n",
              " [60],\n",
              " [151, 4, 1, 25],\n",
              " [16, 152, 44, 153],\n",
              " [1, 74, 154],\n",
              " [1, 45, 75],\n",
              " [1, 25],\n",
              " [1, 155, 39],\n",
              " [156, 4],\n",
              " [1, 157, 17, 26, 76, 77],\n",
              " [2, 77, 26, 76],\n",
              " [2, 42, 158, 159, 160, 4],\n",
              " [1, 43, 16, 78, 46, 161, 162, 78, 163, 164],\n",
              " [79, 26, 9, 80],\n",
              " [18, 165],\n",
              " [5, 3, 81, 27, 166, 6],\n",
              " [1, 25, 82, 167],\n",
              " [2, 47, 79, 26, 9, 80],\n",
              " [83, 168, 2, 169],\n",
              " [1, 3, 81, 27, 170, 171, 172, 173],\n",
              " [1, 2, 84],\n",
              " [1, 74, 84],\n",
              " [1, 43],\n",
              " [24],\n",
              " [85, 17, 11, 86, 87, 174],\n",
              " [85, 17, 11, 86, 87, 72, 7],\n",
              " [10, 7],\n",
              " [1, 88, 175],\n",
              " [5, 3, 7],\n",
              " [2, 176, 177, 89],\n",
              " [28],\n",
              " [1, 178, 179, 180],\n",
              " [90, 181, 9, 91, 91, 182, 183, 9, 28],\n",
              " [4, 3, 184],\n",
              " [1, 14, 89],\n",
              " [1, 185, 3, 186, 187, 188],\n",
              " [28, 48],\n",
              " [28, 73, 189, 190],\n",
              " [191, 46, 92],\n",
              " [192, 193, 7],\n",
              " [13, 33],\n",
              " [93, 49, 69, 194],\n",
              " [94, 14, 8, 195],\n",
              " [8, 196],\n",
              " [1, 197, 93, 49, 4],\n",
              " [1, 14, 8],\n",
              " [1, 36, 8],\n",
              " [42, 198, 18, 95, 199, 200, 201],\n",
              " [1, 19, 33],\n",
              " [1, 66, 23, 4],\n",
              " [15, 18, 95],\n",
              " [1, 96, 8, 202],\n",
              " [2, 203, 3, 204, 205, 206, 97, 207, 40],\n",
              " [208, 21, 209, 75],\n",
              " [5, 3, 27],\n",
              " [29, 20, 210],\n",
              " [2, 47, 22],\n",
              " [2, 98, 22, 10, 50],\n",
              " [51, 21, 90, 211, 68, 99],\n",
              " [2, 212, 99],\n",
              " [10, 2, 46, 213, 100, 18, 101, 214],\n",
              " [29, 52],\n",
              " [5, 3, 102, 100, 215],\n",
              " [5, 3, 216],\n",
              " [1, 217, 218, 45],\n",
              " [219, 52, 4],\n",
              " [5, 3, 220, 221],\n",
              " [5, 3, 102, 222, 223],\n",
              " [2, 224, 4, 225],\n",
              " [2, 47, 51, 226, 83],\n",
              " [51, 227, 4],\n",
              " [82, 228, 2, 229, 230, 231, 232, 233, 234, 235],\n",
              " [1, 236, 237, 21, 6, 98, 22, 1, 19, 103],\n",
              " [1, 88, 23, 53, 11, 104, 105, 238, 239, 30],\n",
              " [1, 31, 240, 241, 1, 242],\n",
              " [1, 14, 103],\n",
              " [1, 6, 101],\n",
              " [1, 19],\n",
              " [1, 41, 243, 244],\n",
              " [1, 15, 25, 31, 6, 53, 11],\n",
              " [1, 96, 17],\n",
              " [15, 18, 245, 246],\n",
              " [1, 30, 17, 49, 4],\n",
              " [247, 97, 248, 249, 61, 1, 11, 23, 4],\n",
              " [94, 19, 63],\n",
              " [2, 250, 11],\n",
              " [1, 54, 12, 106],\n",
              " [1, 31, 251],\n",
              " [1, 6],\n",
              " [1, 252, 92, 45, 253],\n",
              " [5, 3, 32],\n",
              " [6, 254, 255, 256, 44],\n",
              " [1, 31],\n",
              " [6, 257, 9, 20],\n",
              " [6, 35, 258, 259, 260],\n",
              " [1, 19, 261],\n",
              " [1, 262, 67, 41],\n",
              " [10, 263, 264, 265],\n",
              " [1, 53, 11, 3, 32],\n",
              " [1, 104, 105],\n",
              " [266, 267, 38],\n",
              " [1, 54, 268],\n",
              " [12, 106],\n",
              " [1, 55, 269, 270, 271, 30, 59],\n",
              " [2, 56, 44],\n",
              " [1, 55, 16, 272, 16, 34],\n",
              " [1, 107, 50, 273, 274],\n",
              " [1, 107, 108, 56, 275, 276, 277, 57, 278, 279],\n",
              " [1, 280, 15, 2],\n",
              " [1, 55, 27],\n",
              " [13, 281],\n",
              " [20, 40],\n",
              " [1, 30, 282],\n",
              " [20, 48],\n",
              " [1, 283, 8],\n",
              " [10, 58],\n",
              " [54],\n",
              " [20, 48],\n",
              " [284, 285],\n",
              " [34, 56],\n",
              " [1, 29, 286],\n",
              " [57, 4],\n",
              " [29, 52],\n",
              " [287, 57, 288, 289, 70, 290, 291, 292, 293, 108],\n",
              " [2, 294, 295],\n",
              " [10, 50, 296, 297]]"
            ]
          },
          "metadata": {},
          "execution_count": 88
        }
      ]
    },
    {
      "cell_type": "code",
      "source": [
        "# Pad the sequences to have the same length\n",
        "from tensorflow.keras.preprocessing.sequence import pad_sequences\n",
        "\n",
        "X = pad_sequences(train_sequences, maxlen=max_length,\n",
        "                  padding='post', truncating='post')"
      ],
      "metadata": {
        "id": "HFl6gP5rmRTb"
      },
      "execution_count": 62,
      "outputs": []
    },
    {
      "cell_type": "code",
      "source": [
        "# LSTM model\n",
        "import numpy as np\n",
        "from tensorflow.keras import layers\n",
        "from sklearn.model_selection import StratifiedKFold\n",
        "\n",
        "\n",
        "def LSTM(num_folds=10, embedding_dim=32, num_units=64, num_classes=25, num_epochs=20, batch_size=10,\n",
        "         verbosity=0, loss_function='sparse_categorical_crossentropy', optimizer='adam'):\n",
        "\n",
        "    # Model configuration\n",
        "    # num_folds = 10\n",
        "    # embedding_dim = 32\n",
        "    # num_units = 64\n",
        "    # num_classes = 25\n",
        "    # num_epochs = 20\n",
        "    # batch_size = 10\n",
        "    # verbosity = 0\n",
        "    # loss_function = 'sparse_categorical_crossentropy'\n",
        "    # optimizer = 'adam'\n",
        "\n",
        "    # define 10-fold cross validation\n",
        "    kfold = StratifiedKFold(n_splits=num_folds, shuffle=True, random_state=7)\n",
        "    cvscores = []\n",
        "    fold_num = 1\n",
        "    for train, test in kfold.split(X, y):\n",
        "        # Create model\n",
        "        model = keras.models.Sequential()\n",
        "        model.add(layers.Embedding(num_unique_words,\n",
        "                                   embedding_dim, input_length=max_length))\n",
        "        model.add(layers.LSTM(num_units, dropout=0.2, recurrent_dropout=0.2))\n",
        "        model.add(layers.Dense(num_classes, activation=\"softmax\"))\n",
        "        # Compile model\n",
        "        model.compile(loss=loss_function,\n",
        "                      optimizer=optimizer, metrics=['accuracy'])\n",
        "        # Fit the model\n",
        "        print(\"Training fold number: \", fold_num)\n",
        "        history = model.fit(X[train], y[train], epochs=num_epochs,\n",
        "                            batch_size=batch_size, verbose=verbosity,\n",
        "                            validation_data=(X[test], y[test]))\n",
        "\n",
        "        # Evaluate the model\n",
        "        scores = model.evaluate(X[test], y[test], verbose=verbosity)\n",
        "        print(\"%s: %.2f%%\" % (model.metrics_names[1], scores[1]*100))\n",
        "        cvscores.append(scores[1] * 100)\n",
        "\n",
        "        # Visualize history\n",
        "        # # Plot history: Loss\n",
        "        # plt.plot(history.history['loss'])\n",
        "        # plt.plot(history.history['val_loss'])\n",
        "        # plt.title('Validation loss history')\n",
        "        # plt.ylabel('Loss')\n",
        "        # plt.xlabel('Epochs')\n",
        "        # plt.legend(['train', 'validation'], loc='upper right')\n",
        "        # plt.show()\n",
        "\n",
        "        fold_num = fold_num + 1\n",
        "\n",
        "    print(\"Average score: %.2f%%\" % (np.mean(cvscores)))\n",
        "    return model"
      ],
      "metadata": {
        "id": "L3QLcfZgmaFs"
      },
      "execution_count": 75,
      "outputs": []
    },
    {
      "cell_type": "code",
      "source": [
        "model = LSTM()"
      ],
      "metadata": {
        "colab": {
          "base_uri": "https://localhost:8080/"
        },
        "id": "2ghUlmvtnpZ8",
        "outputId": "0684efe3-04d2-4a4c-b09b-55d31e129a9b"
      },
      "execution_count": 76,
      "outputs": [
        {
          "output_type": "stream",
          "name": "stdout",
          "text": [
            "Training fold number:  1\n",
            "accuracy: 31.25%\n",
            "Training fold number:  2\n",
            "accuracy: 26.67%\n",
            "Training fold number:  3\n",
            "accuracy: 40.00%\n",
            "Training fold number:  4\n",
            "accuracy: 33.33%\n",
            "Training fold number:  5\n",
            "accuracy: 26.67%\n",
            "Training fold number:  6\n",
            "accuracy: 26.67%\n",
            "Training fold number:  7\n",
            "accuracy: 20.00%\n",
            "Training fold number:  8\n",
            "accuracy: 20.00%\n",
            "Training fold number:  9\n",
            "accuracy: 13.33%\n",
            "Training fold number:  10\n",
            "accuracy: 26.67%\n",
            "Average score: 26.46%\n"
          ]
        }
      ]
    },
    {
      "cell_type": "code",
      "source": [
        "from tensorflow.keras import models\n",
        "from sklearn.model_selection import StratifiedKFold\n",
        "from sklearn import metrics\n",
        "\n",
        "def evaluate_model(model, X, y):\n",
        "    accuracy_list = []\n",
        "    precision_list = []\n",
        "    recall_list = []\n",
        "    f1_score_list = []\n",
        "\n",
        "    predicted_targets = np.array([])\n",
        "    actual_targets = np.array([])\n",
        "    kfold = StratifiedKFold(n_splits=10, shuffle=True, random_state=7)\n",
        "    for train, test in kfold.split(X, y):\n",
        "        scores = model.evaluate(X[test], y[test], verbose=0)\n",
        "        print(\"%s: %.2f%%\" % (model.metrics_names[1], scores[1]*100))\n",
        "\n",
        "        y_pred = model.predict(X[test]).argmax(axis=-1)\n",
        "        predicted_targets = np.append(predicted_targets, y_pred)\n",
        "        actual_targets = np.append(actual_targets, y[test])\n",
        "\n",
        "        accuracy_list.append(metrics.accuracy_score(y[test], y_pred))\n",
        "        precision_list.append(metrics.precision_score(\n",
        "            y[test], y_pred, average='weighted'))\n",
        "        recall_list.append(metrics.recall_score(\n",
        "            y[test], y_pred, average='weighted'))\n",
        "        f1_score_list.append(metrics.f1_score(\n",
        "            y[test], y_pred, average='weighted'))\n",
        "\n",
        "        # print(metrics.confusion_matrix(y[test], y_pred))\n",
        "\n",
        "        # fpr, tpr, thresholds = metrics.roc_curve(y[test], y_pred)\n",
        "        # roc_auc = metrics.auc(fpr, tpr)\n",
        "        # roc_display = metrics.RocCurveDisplay(\n",
        "        #     fpr=fpr, tpr=tpr, roc_auc=roc_auc)\n",
        "        # roc_display.plot()\n",
        "\n",
        "    print(\"Average accuracy= \", np.mean(accuracy_list))\n",
        "    print(\"Average precision= \", np.mean(precision_list))\n",
        "    print(\"Average recall= \", np.mean(recall_list))\n",
        "    print(\"Average f1_score= \", np.mean(f1_score_list))\n",
        "\n",
        "    return predicted_targets, actual_targets"
      ],
      "metadata": {
        "id": "2z781kGfrf6y"
      },
      "execution_count": 77,
      "outputs": []
    },
    {
      "cell_type": "code",
      "source": [
        "class_names = le.inverse_transform(y)"
      ],
      "metadata": {
        "id": "V-aJnckWseF4"
      },
      "execution_count": 78,
      "outputs": []
    },
    {
      "cell_type": "code",
      "source": [
        "\n",
        "predicted_target, actual_target = evaluate_model(model, X, y)"
      ],
      "metadata": {
        "colab": {
          "base_uri": "https://localhost:8080/"
        },
        "id": "1ofA4gxDshBC",
        "outputId": "b060f78e-7ce0-4aa6-e739-f87f064abc56"
      },
      "execution_count": 80,
      "outputs": [
        {
          "output_type": "stream",
          "name": "stdout",
          "text": [
            "accuracy: 62.50%\n",
            "1/1 [==============================] - 1s 610ms/step\n",
            "accuracy: 66.67%\n"
          ]
        },
        {
          "output_type": "stream",
          "name": "stderr",
          "text": [
            "/usr/local/lib/python3.7/dist-packages/sklearn/metrics/_classification.py:1318: UndefinedMetricWarning: Precision is ill-defined and being set to 0.0 in labels with no predicted samples. Use `zero_division` parameter to control this behavior.\n",
            "  _warn_prf(average, modifier, msg_start, len(result))\n"
          ]
        },
        {
          "output_type": "stream",
          "name": "stdout",
          "text": [
            "1/1 [==============================] - 0s 58ms/step\n",
            "accuracy: 66.67%\n"
          ]
        },
        {
          "output_type": "stream",
          "name": "stderr",
          "text": [
            "/usr/local/lib/python3.7/dist-packages/sklearn/metrics/_classification.py:1318: UndefinedMetricWarning: Precision is ill-defined and being set to 0.0 in labels with no predicted samples. Use `zero_division` parameter to control this behavior.\n",
            "  _warn_prf(average, modifier, msg_start, len(result))\n"
          ]
        },
        {
          "output_type": "stream",
          "name": "stdout",
          "text": [
            "1/1 [==============================] - 0s 23ms/step\n",
            "accuracy: 66.67%\n",
            "1/1 [==============================] - 0s 26ms/step\n"
          ]
        },
        {
          "output_type": "stream",
          "name": "stderr",
          "text": [
            "/usr/local/lib/python3.7/dist-packages/sklearn/metrics/_classification.py:1318: UndefinedMetricWarning: Precision is ill-defined and being set to 0.0 in labels with no predicted samples. Use `zero_division` parameter to control this behavior.\n",
            "  _warn_prf(average, modifier, msg_start, len(result))\n",
            "/usr/local/lib/python3.7/dist-packages/sklearn/metrics/_classification.py:1318: UndefinedMetricWarning: Precision is ill-defined and being set to 0.0 in labels with no predicted samples. Use `zero_division` parameter to control this behavior.\n",
            "  _warn_prf(average, modifier, msg_start, len(result))\n"
          ]
        },
        {
          "output_type": "stream",
          "name": "stdout",
          "text": [
            "accuracy: 66.67%\n",
            "1/1 [==============================] - 0s 40ms/step\n",
            "accuracy: 86.67%\n",
            "1/1 [==============================] - 0s 24ms/step\n"
          ]
        },
        {
          "output_type": "stream",
          "name": "stderr",
          "text": [
            "/usr/local/lib/python3.7/dist-packages/sklearn/metrics/_classification.py:1318: UndefinedMetricWarning: Precision is ill-defined and being set to 0.0 in labels with no predicted samples. Use `zero_division` parameter to control this behavior.\n",
            "  _warn_prf(average, modifier, msg_start, len(result))\n",
            "/usr/local/lib/python3.7/dist-packages/sklearn/metrics/_classification.py:1318: UndefinedMetricWarning: Precision is ill-defined and being set to 0.0 in labels with no predicted samples. Use `zero_division` parameter to control this behavior.\n",
            "  _warn_prf(average, modifier, msg_start, len(result))\n"
          ]
        },
        {
          "output_type": "stream",
          "name": "stdout",
          "text": [
            "accuracy: 60.00%\n",
            "1/1 [==============================] - 0s 27ms/step\n",
            "accuracy: 80.00%\n",
            "1/1 [==============================] - 0s 27ms/step\n"
          ]
        },
        {
          "output_type": "stream",
          "name": "stderr",
          "text": [
            "/usr/local/lib/python3.7/dist-packages/sklearn/metrics/_classification.py:1318: UndefinedMetricWarning: Precision is ill-defined and being set to 0.0 in labels with no predicted samples. Use `zero_division` parameter to control this behavior.\n",
            "  _warn_prf(average, modifier, msg_start, len(result))\n",
            "/usr/local/lib/python3.7/dist-packages/sklearn/metrics/_classification.py:1318: UndefinedMetricWarning: Precision is ill-defined and being set to 0.0 in labels with no predicted samples. Use `zero_division` parameter to control this behavior.\n",
            "  _warn_prf(average, modifier, msg_start, len(result))\n"
          ]
        },
        {
          "output_type": "stream",
          "name": "stdout",
          "text": [
            "accuracy: 60.00%\n",
            "1/1 [==============================] - 0s 22ms/step\n",
            "accuracy: 26.67%\n",
            "1/1 [==============================] - 0s 24ms/step\n",
            "Average accuracy=  0.6425\n",
            "Average precision=  0.5156498015873016\n",
            "Average recall=  0.6425\n",
            "Average f1_score=  0.5490066137566136\n"
          ]
        },
        {
          "output_type": "stream",
          "name": "stderr",
          "text": [
            "/usr/local/lib/python3.7/dist-packages/sklearn/metrics/_classification.py:1318: UndefinedMetricWarning: Precision is ill-defined and being set to 0.0 in labels with no predicted samples. Use `zero_division` parameter to control this behavior.\n",
            "  _warn_prf(average, modifier, msg_start, len(result))\n",
            "/usr/local/lib/python3.7/dist-packages/sklearn/metrics/_classification.py:1318: UndefinedMetricWarning: Precision is ill-defined and being set to 0.0 in labels with no predicted samples. Use `zero_division` parameter to control this behavior.\n",
            "  _warn_prf(average, modifier, msg_start, len(result))\n"
          ]
        }
      ]
    },
    {
      "cell_type": "code",
      "source": [
        "X[test]"
      ],
      "metadata": {
        "colab": {
          "base_uri": "https://localhost:8080/",
          "height": 163
        },
        "id": "bA4oOPJesvsl",
        "outputId": "0321c890-5669-4506-a534-0e2edc7fce33"
      },
      "execution_count": 81,
      "outputs": [
        {
          "output_type": "error",
          "ename": "NameError",
          "evalue": "ignored",
          "traceback": [
            "\u001b[0;31m---------------------------------------------------------------------------\u001b[0m",
            "\u001b[0;31mNameError\u001b[0m                                 Traceback (most recent call last)",
            "\u001b[0;32m<ipython-input-81-7c34f4b0eea6>\u001b[0m in \u001b[0;36m<module>\u001b[0;34m\u001b[0m\n\u001b[0;32m----> 1\u001b[0;31m \u001b[0mX\u001b[0m\u001b[0;34m[\u001b[0m\u001b[0mtest\u001b[0m\u001b[0;34m]\u001b[0m\u001b[0;34m\u001b[0m\u001b[0;34m\u001b[0m\u001b[0m\n\u001b[0m",
            "\u001b[0;31mNameError\u001b[0m: name 'test' is not defined"
          ]
        }
      ]
    },
    {
      "cell_type": "code",
      "source": [],
      "metadata": {
        "id": "xL676wRYsjGy"
      },
      "execution_count": null,
      "outputs": []
    }
  ]
}